{
 "cells": [
  {
   "cell_type": "markdown",
   "metadata": {},
   "source": [
    "# Tarea 3"
   ]
  },
  {
   "cell_type": "code",
   "execution_count": 1,
   "metadata": {},
   "outputs": [],
   "source": [
    "import pandas as pd\n",
    "import numpy as np\n",
    "import matplotlib.pyplot as plt\n",
    "from scipy.optimize import curve_fit, bisect\n",
    "from scipy.constants import Boltzmann\n",
    "from scipy.interpolate import CubicSpline"
   ]
  },
  {
   "cell_type": "markdown",
   "metadata": {},
   "source": [
    "## Experiencia 1"
   ]
  },
  {
   "cell_type": "markdown",
   "metadata": {},
   "source": [
    "Extraimos los datos del primer circuito en un dataframe"
   ]
  },
  {
   "cell_type": "code",
   "execution_count": 2,
   "metadata": {},
   "outputs": [],
   "source": [
    "datos=pd.read_table('circuito1.txt',header=0)"
   ]
  },
  {
   "cell_type": "markdown",
   "metadata": {},
   "source": [
    "Graficamos"
   ]
  },
  {
   "cell_type": "code",
   "execution_count": 3,
   "metadata": {},
   "outputs": [
    {
     "data": {
      "image/png": "[encoded data removed]",
      "text/plain": [
       "<Figure size 720x360 with 1 Axes>"
      ]
     },
     "metadata": {
      "needs_background": "light"
     },
     "output_type": "display_data"
    }
   ],
   "source": [
    "V = datos['v1']-datos['V(n002)']\n",
    "I = datos['I(D1)']\n",
    "\n",
    "plt.figure(figsize=(10,5))\n",
    "plt.plot(V, 1000*I, 'o')\n",
    "plt.xlabel('V1 - V(b) [volt]', size=15)\n",
    "plt.ylabel('I [mAmps]', size=15)\n",
    "plt.xticks(fontsize=12)\n",
    "plt.yticks(fontsize=12)\n",
    "plt.show()"
   ]
  },
  {
   "cell_type": "markdown",
   "metadata": {},
   "source": [
    "Definimos la funcion para realizar el ajuste: \n",
    "\n",
    "$$I(V) = a(e^{bV}-1)$$\n",
    "\n",
    "En donde $a=I_0$ y $b = \\frac{q}{KT}$"
   ]
  },
  {
   "cell_type": "code",
   "execution_count": 4,
   "metadata": {},
   "outputs": [],
   "source": [
    "# Constantes:\n",
    "K = Boltzmann\n",
    "q = 1.602176634*(10**-19) # Coulomb\n",
    "\n",
    "def corriente_I(V, a, b):\n",
    "    return a*(np.exp(b*V)-1)"
   ]
  },
  {
   "cell_type": "code",
   "execution_count": 5,
   "metadata": {},
   "outputs": [
    {
     "data": {
      "image/png": "[encoded data removed]",
      "text/plain": [
       "<Figure size 720x360 with 1 Axes>"
      ]
     },
     "metadata": {
      "needs_background": "light"
     },
     "output_type": "display_data"
    },
    {
     "name": "stdout",
     "output_type": "stream",
     "text": [
      "I_0 =  2.7016782478780414e-09\n",
      "T =  529.1817203119546\n"
     ]
    }
   ],
   "source": [
    "# fiteo\n",
    "I_fit = curve_fit(corriente_I, V, I)\n",
    "I_teo = corriente_I(V, I_fit[0][0], I_fit[0][1])\n",
    "\n",
    "# graficamos\n",
    "plt.figure(figsize=(10,5))\n",
    "plt.plot(V, 1000*I_teo, label='Ajuste')\n",
    "plt.plot(V, 1000*I, label='Experiencia I')\n",
    "plt.xlabel('V1 - V(b) [volt]', size=15)\n",
    "plt.ylabel('I [mAmps]', size=15)\n",
    "plt.xticks(fontsize=12)\n",
    "plt.yticks(fontsize=12)\n",
    "plt.legend(prop={'size': 12})\n",
    "plt.show()\n",
    "\n",
    "print('I_0 = ', I_fit[0][0] )\n",
    "print('T = ', q/(K*I_fit[0][1]))"
   ]
  },
  {
   "cell_type": "code",
   "execution_count": 6,
   "metadata": {},
   "outputs": [
    {
     "name": "stdout",
     "output_type": "stream",
     "text": [
      "Raiz del Error cuadrático medio: 0.0002644361495808102 [mAmps]\n"
     ]
    }
   ],
   "source": [
    "RMS = np.sqrt(sum((I_teo-I)**2)/(len(I)))\n",
    "print('Raiz del Error cuadrático medio:', RMS*1000, '[mAmps]')"
   ]
  },
  {
   "cell_type": "markdown",
   "metadata": {},
   "source": [
    "Expresion para $V_{out}$ :\n",
    "\n",
    "$$V_{out} = R I_0 ( e^{\\frac{(V_{in}-V_{out})q}{KT}} - 1)$$\n",
    "\n",
    "Encontraremos los ceros para la funcion:\n",
    "\n",
    "$$g(V_{out}) = V_{out} = R I_0 ( e^{(V_{in}-V_{out})b} - 1) - V{out}$$\n",
    "\n",
    "con $b = \\frac{q}{KT}$, de modo que lo ceros de esta funcion sean los $V_{out}$ que satisfacen la primera ecuacion"
   ]
  },
  {
   "cell_type": "code",
   "execution_count": 7,
   "metadata": {},
   "outputs": [],
   "source": [
    "# Constantes\n",
    "R = 1000\n",
    "I0 = I_fit[0][0]\n",
    "b = I_fit[0][1]\n",
    "\n",
    "# voltaje de entrada y salida\n",
    "V_in = datos['v1']\n",
    "V_out=np.zeros(len(V_in))\n",
    "\n",
    "# funcion que se buscara ceros\n",
    "def g(v_out):\n",
    "    return R*I0*(np.exp((V_in[i]-v_out)*b)-1) - v_out\n",
    "\n",
    "for i in range(len(V_in)):\n",
    "    V_out[i] = bisect(g,10,-10)"
   ]
  },
  {
   "cell_type": "markdown",
   "metadata": {},
   "source": [
    "Visualicemos los datos para $V_{out}$ obtenidos de LTSPICE"
   ]
  },
  {
   "cell_type": "code",
   "execution_count": 8,
   "metadata": {},
   "outputs": [
    {
     "data": {
      "text/plain": [
       "0      0.000000e+00\n",
       "1      6.222022e-07\n",
       "2      1.398011e-06\n",
       "3      2.365343e-06\n",
       "4      3.571466e-06\n",
       "           ...     \n",
       "146    8.810652e-01\n",
       "147    8.905734e-01\n",
       "148    9.000865e-01\n",
       "149    9.096044e-01\n",
       "150    9.191271e-01\n",
       "Name: V(n002), Length: 151, dtype: float64"
      ]
     },
     "execution_count": 8,
     "metadata": {},
     "output_type": "execute_result"
    }
   ],
   "source": [
    "V_outLTspice = datos['V(n002)']\n",
    "V_outLTspice"
   ]
  },
  {
   "cell_type": "markdown",
   "metadata": {},
   "source": [
    "Graficamos el medido en LTSPICE y el obtenido con la ecuación:"
   ]
  },
  {
   "cell_type": "code",
   "execution_count": 9,
   "metadata": {},
   "outputs": [
    {
     "data": {
      "image/png": "[encoded data removed]",
      "text/plain": [
       "<Figure size 720x360 with 1 Axes>"
      ]
     },
     "metadata": {
      "needs_background": "light"
     },
     "output_type": "display_data"
    }
   ],
   "source": [
    "plt.figure(figsize=(10,5))\n",
    "plt.xticks(fontsize=12)\n",
    "plt.yticks(fontsize=12)\n",
    "plt.plot(V_in, V_out, label='Ajuste')\n",
    "plt.plot(V_in, V_outLTspice, label='Experiencia I')\n",
    "plt.xlabel('$V_{in}$ [volt]', size=15)\n",
    "plt.ylabel('$V_{out}$ [volt]', size=15)\n",
    "plt.legend(prop={'size': 12})\n",
    "plt.show()"
   ]
  },
  {
   "cell_type": "markdown",
   "metadata": {},
   "source": [
    "## Experiencia 2"
   ]
  },
  {
   "cell_type": "markdown",
   "metadata": {},
   "source": [
    "Extrapolamos $V_{out}$ con CubicSpline para calcular la derivada"
   ]
  },
  {
   "cell_type": "code",
   "execution_count": 10,
   "metadata": {},
   "outputs": [],
   "source": [
    "# pasamos a array\n",
    "V_in = np.array(V_in)\n",
    "\n",
    "# expandimos\n",
    "Vind = np.append(V_in, [1.51, 1.52, 1.53])\n",
    "\n",
    "# extrapolamos\n",
    "cs = CubicSpline(V_in, V_out)\n",
    "\n",
    "Voutd = cs(Vind)"
   ]
  },
  {
   "cell_type": "markdown",
   "metadata": {},
   "source": [
    "Calcula las derivadas:"
   ]
  },
  {
   "cell_type": "code",
   "execution_count": 11,
   "metadata": {},
   "outputs": [],
   "source": [
    "dV_out  = np.zeros(len(Voutd))\n",
    "d2V_out = np.zeros(len(Voutd))\n",
    "d3V_out = np.zeros(len(Voutd))\n",
    "d4V_out = np.zeros(len(Voutd))\n",
    "\n",
    "for i in range(len(V_out)):\n",
    "    # V_in[i+1] - V_in[i] = constante = 0.01\n",
    "    h = V_in[1]-V_in[0]\n",
    "    \n",
    "    # primera derivada\n",
    "    dV_out[i]  = (Voutd[i+1]-Voutd[i])/(h)\n",
    "    \n",
    "    # segunda derivada\n",
    "    d2V_out[i] = (dV_out[i+1]-dV_out[i])/(h)\n",
    "    \n",
    "    # tercera derivada\n",
    "    d3V_out[i] = (d2V_out[i+1]-d2V_out[i])/(h)\n",
    "    \n",
    "    # cuarta derivada\n",
    "    d4V_out[i] = (d3V_out[i+1]-d3V_out[i])/(h)\n",
    "    \n",
    "# necesitamos los arrays correspondientes a V_in en [0, 1.5]\n",
    "dV_out  = dV_out[:151]\n",
    "d2V_out = d2V_out[:151]\n",
    "d3V_out = d3V_out[:151]\n",
    "d4V_out = d4V_out[:151]"
   ]
  },
  {
   "cell_type": "markdown",
   "metadata": {},
   "source": [
    "Calculamos el radio de curvatura y el radio minimo"
   ]
  },
  {
   "cell_type": "code",
   "execution_count": 12,
   "metadata": {},
   "outputs": [
    {
     "name": "stdout",
     "output_type": "stream",
     "text": [
      "El radio minimo es:  0.026 , que corresponde a un V_in =  0.590  y un V_out =  0.107\n"
     ]
    }
   ],
   "source": [
    "R_c = abs((1+dV_out**2)**(3/2))/abs(d2V_out)\n",
    "i = np.where( R_c==min(R_c))\n",
    "print('El radio minimo es: ', '{:.3F}'.format(float(R_c[i])),\n",
    "      ', que corresponde a un V_in = ', '{:.3F}'.format(float(V_in[i])),\n",
    "      ' y un V_out = ', '{:.3F}'.format(float(V_out[i])))"
   ]
  },
  {
   "cell_type": "code",
   "execution_count": null,
   "metadata": {},
   "outputs": [],
   "source": []
  }
 ],
 "metadata": {
  "kernelspec": {
   "display_name": "Python 3",
   "language": "python",
   "name": "python3"
  },
  "language_info": {
   "codemirror_mode": {
    "name": "ipython",
    "version": 3
   },
   "file_extension": ".py",
   "mimetype": "text/x-python",
   "name": "python",
   "nbconvert_exporter": "python",
   "pygments_lexer": "ipython3",
   "version": "3.8.5"
  }
 },
 "nbformat": 4,
 "nbformat_minor": 4
}
